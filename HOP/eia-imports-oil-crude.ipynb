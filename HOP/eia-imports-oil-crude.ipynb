{
 "cells": [
  {
   "cell_type": "code",
   "execution_count": 2,
   "metadata": {},
   "outputs": [],
   "source": [
    "#%matplotlib notebook\n",
    "\n",
    "import pandas\n",
    "from datetime import datetime\n",
    "import numpy\n",
    "import matplotlib.pyplot as pyplot\n",
    "from ipywidgets import widgets\n",
    "from ipywidgets import interact\n",
    "#import pickle\n",
    "#import dill\n",
    "\n",
    "import quandl\n",
    "import scipy\n",
    "import sklearn.linear_model\n",
    "import sklearn.metrics"
   ]
  },
  {
   "cell_type": "markdown",
   "metadata": {},
   "source": [
    "Source of the file is EIA.GOV. Great source of free data."
   ]
  },
  {
   "cell_type": "markdown",
   "metadata": {},
   "source": [
    "Imports of Crude Oil (Thousands of Barrels)\n",
    "==================================="
   ]
  },
  {
   "cell_type": "code",
   "execution_count": 10,
   "metadata": {
    "scrolled": true
   },
   "outputs": [],
   "source": [
    "df_im = pandas.read_csv(\"Imports_of_all_grades_to_New_York-2.csv\",skiprows=4)\n",
    "ser = df_im[\"<span style='float:right;'>(thousand barrels)</span>\"]"
   ]
  },
  {
   "cell_type": "code",
   "execution_count": 32,
   "metadata": {},
   "outputs": [
    {
     "data": {
      "text/html": [
       "<div>\n",
       "<style scoped>\n",
       "    .dataframe tbody tr th:only-of-type {\n",
       "        vertical-align: middle;\n",
       "    }\n",
       "\n",
       "    .dataframe tbody tr th {\n",
       "        vertical-align: top;\n",
       "    }\n",
       "\n",
       "    .dataframe thead th {\n",
       "        text-align: right;\n",
       "    }\n",
       "</style>\n",
       "<table border=\"1\" class=\"dataframe\">\n",
       "  <thead>\n",
       "    <tr style=\"text-align: right;\">\n",
       "      <th></th>\n",
       "      <th>Date</th>\n",
       "      <th>Barrels</th>\n",
       "    </tr>\n",
       "  </thead>\n",
       "  <tbody>\n",
       "    <tr>\n",
       "      <th>0</th>\n",
       "      <td>2009-01-01</td>\n",
       "      <td>0</td>\n",
       "    </tr>\n",
       "    <tr>\n",
       "      <th>1</th>\n",
       "      <td>2009-02-01</td>\n",
       "      <td>0</td>\n",
       "    </tr>\n",
       "    <tr>\n",
       "      <th>2</th>\n",
       "      <td>2009-03-01</td>\n",
       "      <td>0</td>\n",
       "    </tr>\n",
       "    <tr>\n",
       "      <th>3</th>\n",
       "      <td>2009-04-01</td>\n",
       "      <td>0</td>\n",
       "    </tr>\n",
       "    <tr>\n",
       "      <th>4</th>\n",
       "      <td>2009-05-01</td>\n",
       "      <td>0</td>\n",
       "    </tr>\n",
       "  </tbody>\n",
       "</table>\n",
       "</div>"
      ],
      "text/plain": [
       "        Date  Barrels\n",
       "0 2009-01-01        0\n",
       "1 2009-02-01        0\n",
       "2 2009-03-01        0\n",
       "3 2009-04-01        0\n",
       "4 2009-05-01        0"
      ]
     },
     "execution_count": 32,
     "metadata": {},
     "output_type": "execute_result"
    }
   ],
   "source": [
    "imports_nj = df_im.loc[[2]].melt(id_vars=[\"<span style='float:right;'>(thousand barrels)</span>\"], var_name=\"Date\", value_name=\"Barrels\")[[\"Date\",\"Barrels\"]]\n",
    "imports_ny = df_im.loc[[3]].melt(id_vars=[\"<span style='float:right;'>(thousand barrels)</span>\"], var_name=\"Date\", value_name=\"Barrels\")[[\"Date\",\"Barrels\"]]\n",
    "imports_ny[\"Barrels\"] = imports_ny[\"Barrels\"].str.replace(\"--\", \"0\")\n",
    "imports_nj[\"Barrels\"] = imports_nj[\"Barrels\"].str.replace(\"--\", \"0\")\n",
    "imports_ny[\"Barrels\"] = imports_ny[\"Barrels\"].astype(int)\n",
    "imports_nj[\"Barrels\"] = imports_nj[\"Barrels\"].astype(int)\n",
    "imports_ny[\"Date\"] = pandas.to_datetime(imports_ny[\"Date\"])\n",
    "imports_nj[\"Date\"] = pandas.to_datetime(imports_nj[\"Date\"])\n",
    "imports_ny.head()"
   ]
  },
  {
   "cell_type": "code",
   "execution_count": 31,
   "metadata": {},
   "outputs": [],
   "source": [
    "#ax = imports_ny.plot(x=\"Date\",y=\"Barrels\",ylabel=\"Thousand of barrels\",xlabel=\"Month\",label=\"Imports from world to NY\")\n",
    "#imports_nj.plot(x=\"Date\",y=\"Barrels\",ylabel=\"Thousand of barrels\",xlabel=\"Month\",label=\"Imports from world to NJ\",ax=ax)"
   ]
  },
  {
   "cell_type": "code",
   "execution_count": 12,
   "metadata": {},
   "outputs": [],
   "source": [
    "#imports_ny.to_csv(\"imp_ny.csv\",index=False)\n",
    "#imports_nj.to_csv(\"imp_nj.csv\",index=False)"
   ]
  },
  {
   "cell_type": "markdown",
   "metadata": {},
   "source": [
    "Production of Crude Oil (Thousands of Barrels)\n",
    "====================================="
   ]
  },
  {
   "cell_type": "code",
   "execution_count": 7,
   "metadata": {},
   "outputs": [
    {
     "data": {
      "text/html": [
       "<div>\n",
       "<style scoped>\n",
       "    .dataframe tbody tr th:only-of-type {\n",
       "        vertical-align: middle;\n",
       "    }\n",
       "\n",
       "    .dataframe tbody tr th {\n",
       "        vertical-align: top;\n",
       "    }\n",
       "\n",
       "    .dataframe thead th {\n",
       "        text-align: right;\n",
       "    }\n",
       "</style>\n",
       "<table border=\"1\" class=\"dataframe\">\n",
       "  <thead>\n",
       "    <tr style=\"text-align: right;\">\n",
       "      <th></th>\n",
       "      <th>Date</th>\n",
       "      <th>Barrels</th>\n",
       "    </tr>\n",
       "  </thead>\n",
       "  <tbody>\n",
       "    <tr>\n",
       "      <th>0</th>\n",
       "      <td>2022-06-01</td>\n",
       "      <td>22</td>\n",
       "    </tr>\n",
       "    <tr>\n",
       "      <th>1</th>\n",
       "      <td>2022-05-01</td>\n",
       "      <td>23</td>\n",
       "    </tr>\n",
       "    <tr>\n",
       "      <th>2</th>\n",
       "      <td>2022-04-01</td>\n",
       "      <td>22</td>\n",
       "    </tr>\n",
       "    <tr>\n",
       "      <th>3</th>\n",
       "      <td>2022-03-01</td>\n",
       "      <td>12</td>\n",
       "    </tr>\n",
       "    <tr>\n",
       "      <th>4</th>\n",
       "      <td>2022-02-01</td>\n",
       "      <td>11</td>\n",
       "    </tr>\n",
       "  </tbody>\n",
       "</table>\n",
       "</div>"
      ],
      "text/plain": [
       "        Date  Barrels\n",
       "0 2022-06-01       22\n",
       "1 2022-05-01       23\n",
       "2 2022-04-01       22\n",
       "3 2022-03-01       12\n",
       "4 2022-02-01       11"
      ]
     },
     "execution_count": 7,
     "metadata": {},
     "output_type": "execute_result"
    }
   ],
   "source": [
    "production_ny = pandas.read_csv(\"New_York_Field_Production_of_Crude_Oil.csv\",skiprows=4)\n",
    "production_ny.columns = ['Date','Barrels']\n",
    "production_ny[\"Barrels\"] = production_ny[\"Barrels\"].astype(int)\n",
    "production_ny[\"Date\"] = pandas.to_datetime( production_ny[\"Date\"] )\n",
    "production_ny.head()"
   ]
  },
  {
   "cell_type": "code",
   "execution_count": 11,
   "metadata": {},
   "outputs": [],
   "source": [
    "production_ny.to_csv(\"pro_ny.csv\",index=False)"
   ]
  },
  {
   "cell_type": "code",
   "execution_count": 7,
   "metadata": {},
   "outputs": [],
   "source": [
    "price_ny = pandas.read_csv(\"Weekly_New_York_No._2_Heating_Oil_Residential_Price.csv\",skiprows=4)\n",
    "price_ny.columns = ['Date','DPG']\n",
    "price_ny['Date'] = pandas.to_datetime(price_ny['Date'])"
   ]
  },
  {
   "cell_type": "code",
   "execution_count": 9,
   "metadata": {},
   "outputs": [],
   "source": [
    "#price_ny.to_csv(\"price_ny.csv\",index=False)"
   ]
  },
  {
   "cell_type": "markdown",
   "metadata": {},
   "source": [
    "Source of the file is visualcrossing.com. Great source of free data."
   ]
  },
  {
   "cell_type": "markdown",
   "metadata": {},
   "source": [
    "Temperature and Wind Velocity in Long Island\n",
    "====="
   ]
  },
  {
   "cell_type": "code",
   "execution_count": 26,
   "metadata": {},
   "outputs": [
    {
     "data": {
      "text/html": [
       "<div>\n",
       "<style scoped>\n",
       "    .dataframe tbody tr th:only-of-type {\n",
       "        vertical-align: middle;\n",
       "    }\n",
       "\n",
       "    .dataframe tbody tr th {\n",
       "        vertical-align: top;\n",
       "    }\n",
       "\n",
       "    .dataframe thead th {\n",
       "        text-align: right;\n",
       "    }\n",
       "</style>\n",
       "<table border=\"1\" class=\"dataframe\">\n",
       "  <thead>\n",
       "    <tr style=\"text-align: right;\">\n",
       "      <th></th>\n",
       "      <th>datetime</th>\n",
       "      <th>temp</th>\n",
       "      <th>windspeed</th>\n",
       "    </tr>\n",
       "  </thead>\n",
       "  <tbody>\n",
       "    <tr>\n",
       "      <th>0</th>\n",
       "      <td>2017-10-01</td>\n",
       "      <td>14.2</td>\n",
       "      <td>15.1</td>\n",
       "    </tr>\n",
       "    <tr>\n",
       "      <th>1</th>\n",
       "      <td>2017-10-02</td>\n",
       "      <td>14.4</td>\n",
       "      <td>17.5</td>\n",
       "    </tr>\n",
       "    <tr>\n",
       "      <th>2</th>\n",
       "      <td>2017-10-03</td>\n",
       "      <td>14.1</td>\n",
       "      <td>18.3</td>\n",
       "    </tr>\n",
       "    <tr>\n",
       "      <th>3</th>\n",
       "      <td>2017-10-04</td>\n",
       "      <td>16.6</td>\n",
       "      <td>26.2</td>\n",
       "    </tr>\n",
       "    <tr>\n",
       "      <th>4</th>\n",
       "      <td>2017-10-05</td>\n",
       "      <td>21.4</td>\n",
       "      <td>22.7</td>\n",
       "    </tr>\n",
       "  </tbody>\n",
       "</table>\n",
       "</div>"
      ],
      "text/plain": [
       "     datetime  temp  windspeed\n",
       "0  2017-10-01  14.2       15.1\n",
       "1  2017-10-02  14.4       17.5\n",
       "2  2017-10-03  14.1       18.3\n",
       "3  2017-10-04  16.6       26.2\n",
       "4  2017-10-05  21.4       22.7"
      ]
     },
     "execution_count": 26,
     "metadata": {},
     "output_type": "execute_result"
    }
   ],
   "source": [
    "#temperature_ny = pandas.read_csv(\"11777 2017-10-01 to 2020-06-01.csv\",skiprows=0)\n",
    "temperature_ny = pandas.read_csv(\"1777 2017-10-01 to 2022-11-28.csv\",skiprows=0)\n",
    "temperature_ny = temperature_ny[['datetime','temp','windspeed']]\n",
    "temperature_ny.columns\n",
    "temperature_ny.head()"
   ]
  },
  {
   "cell_type": "code",
   "execution_count": 27,
   "metadata": {},
   "outputs": [],
   "source": [
    "#convert date column to datetime and subtract one week\n",
    "temperature_ny['datetime'] = pandas.to_datetime(temperature_ny['datetime']) - pandas.to_timedelta(7, unit='d')\n",
    "\n",
    "#calculate sum of values, grouped by week\n",
    "temp = temperature_ny.groupby([pandas.Grouper(key='datetime', freq='W-MON')])['temp'].mean()\n",
    "wind = temperature_ny.groupby([pandas.Grouper(key='datetime', freq='W-MON')])['windspeed'].mean()\n",
    "merg = pandas.merge( temp, wind, right_index=True, left_index=True )\n",
    "\n",
    "#temperature_ny['datetime'] = pandas.to_datetime(temperature_ny['datetime']) - pandas.to_timedelta(7, unit='d')\n",
    "#temperature_ny = temperature_ny.groupby(['Name', pandas.Grouper(key='Date', freq='W-MON')])['Quantity'].mean().reset_index().sort_values('datetime')"
   ]
  },
  {
   "cell_type": "code",
   "execution_count": 29,
   "metadata": {},
   "outputs": [
    {
     "data": {
      "text/html": [
       "<div>\n",
       "<style scoped>\n",
       "    .dataframe tbody tr th:only-of-type {\n",
       "        vertical-align: middle;\n",
       "    }\n",
       "\n",
       "    .dataframe tbody tr th {\n",
       "        vertical-align: top;\n",
       "    }\n",
       "\n",
       "    .dataframe thead th {\n",
       "        text-align: right;\n",
       "    }\n",
       "</style>\n",
       "<table border=\"1\" class=\"dataframe\">\n",
       "  <thead>\n",
       "    <tr style=\"text-align: right;\">\n",
       "      <th></th>\n",
       "      <th>temp</th>\n",
       "      <th>windspeed</th>\n",
       "    </tr>\n",
       "    <tr>\n",
       "      <th>datetime</th>\n",
       "      <th></th>\n",
       "      <th></th>\n",
       "    </tr>\n",
       "  </thead>\n",
       "  <tbody>\n",
       "    <tr>\n",
       "      <th>2022-10-24</th>\n",
       "      <td>13.585714</td>\n",
       "      <td>17.300000</td>\n",
       "    </tr>\n",
       "    <tr>\n",
       "      <th>2022-10-31</th>\n",
       "      <td>16.471429</td>\n",
       "      <td>19.157143</td>\n",
       "    </tr>\n",
       "    <tr>\n",
       "      <th>2022-11-07</th>\n",
       "      <td>11.242857</td>\n",
       "      <td>26.857143</td>\n",
       "    </tr>\n",
       "    <tr>\n",
       "      <th>2022-11-14</th>\n",
       "      <td>3.457143</td>\n",
       "      <td>29.685714</td>\n",
       "    </tr>\n",
       "    <tr>\n",
       "      <th>2022-11-21</th>\n",
       "      <td>7.685714</td>\n",
       "      <td>23.000000</td>\n",
       "    </tr>\n",
       "  </tbody>\n",
       "</table>\n",
       "</div>"
      ],
      "text/plain": [
       "                 temp  windspeed\n",
       "datetime                        \n",
       "2022-10-24  13.585714  17.300000\n",
       "2022-10-31  16.471429  19.157143\n",
       "2022-11-07  11.242857  26.857143\n",
       "2022-11-14   3.457143  29.685714\n",
       "2022-11-21   7.685714  23.000000"
      ]
     },
     "execution_count": 29,
     "metadata": {},
     "output_type": "execute_result"
    }
   ],
   "source": [
    "#temp.columns = ['datetime','avgT_C','avgWS']\n",
    "merg.tail()"
   ]
  },
  {
   "cell_type": "code",
   "execution_count": 30,
   "metadata": {},
   "outputs": [],
   "source": [
    "#merg.to_csv(\"temp_ny_2.csv\",index=True)"
   ]
  },
  {
   "cell_type": "code",
   "execution_count": 35,
   "metadata": {},
   "outputs": [],
   "source": [
    "#merg.plot(y='temp',use_index=True)"
   ]
  },
  {
   "cell_type": "code",
   "execution_count": 33,
   "metadata": {},
   "outputs": [],
   "source": [
    "#merg.plot(y='windspeed',use_index=True)"
   ]
  },
  {
   "cell_type": "code",
   "execution_count": null,
   "metadata": {},
   "outputs": [],
   "source": []
  }
 ],
 "metadata": {
  "kernelspec": {
   "display_name": "Python3",
   "language": "python",
   "name": "python3"
  },
  "language_info": {
   "codemirror_mode": {
    "name": "ipython",
    "version": 3
   },
   "file_extension": ".py",
   "mimetype": "text/x-python",
   "name": "python",
   "nbconvert_exporter": "python",
   "pygments_lexer": "ipython3",
   "version": "3.9.7"
  }
 },
 "nbformat": 4,
 "nbformat_minor": 4
}

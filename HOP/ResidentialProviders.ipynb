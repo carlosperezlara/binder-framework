{
 "cells": [
  {
   "cell_type": "code",
   "execution_count": 2,
   "metadata": {},
   "outputs": [],
   "source": [
    "WebSources = {\n",
    "    \"ParkSide\":\"https://parksidefuel.com\",\n",
    "    \"MTFuel\":\"https://mt-fuel-corporation-heating-oil.business.site\",\n",
    "    \"Precision\":\"https://precisionheatingoil.com/get-price/\",\n",
    "    \"IndustrialFuel\":\"https://www.industrialfuelcompany.com\",\n",
    "    \"JCDiscount\":\"http://www.jcdiscountfueloil.com/fuel-price-chart/\",\n",
    "    \"Petro\":\"https://www.petro.com/locations/g/yaphank-ny\",\n",
    "    \"Medford\":\"http://heatingoilmedford.com\",\n",
    "    \"WiseChoice\":\"https://www.wisechoicefuel.com\",\n",
    "    \"BayFuel\":\"https://www.bayfueloil.com/todays-oil-price\",\n",
    "    \"RomeosFuel\":\"https://www.romeosfuel.com\",\n",
    "    \"LHFuel\":\"https://lhfuel.com/get-price/\",\n",
    "    \"MarranOil\":\"http://www.marranoil.com/\",\n",
    "    \"DiamondFuel\":\"http://diamondfuel.com/\",\n",
    "    \"AladinoOil\":\"http://www.aladdinoilonline.com/\",\n",
    "    \"BurnerKing\":\"http://burnerking.com/\",\n",
    "    \"Ronkonkoma\":\"http://ronkonkomaheatingoil.com\",\n",
    "    \"MNSFuel\":\"http://www.mnsfuel.com/\",\n",
    "    \"HirshFuels\":\"https://hirschfuels.net\",\n",
    "    \"OKPetroleum\":\"https://www.okpetroleum.com/order-home-heating-oil/\"\n",
    "    }"
   ]
  },
  {
   "cell_type": "code",
   "execution_count": null,
   "metadata": {},
   "outputs": [],
   "source": []
  }
 ],
 "metadata": {
  "kernelspec": {
   "display_name": "Python3",
   "language": "python",
   "name": "python3"
  },
  "language_info": {
   "codemirror_mode": {
    "name": "ipython",
    "version": 3
   },
   "file_extension": ".py",
   "mimetype": "text/x-python",
   "name": "python",
   "nbconvert_exporter": "python",
   "pygments_lexer": "ipython3",
   "version": "3.9.7"
  }
 },
 "nbformat": 4,
 "nbformat_minor": 4
}

{
 "cells": [
  {
   "cell_type": "code",
   "execution_count": 1,
   "metadata": {},
   "outputs": [],
   "source": [
    "#%matplotlib notebook\n",
    "\n",
    "import pandas\n",
    "from datetime import datetime\n",
    "import numpy\n",
    "import matplotlib.pyplot as pyplot\n",
    "from ipywidgets import widgets\n",
    "from ipywidgets import interact\n",
    "#import pickle\n",
    "#import dill\n",
    "\n",
    "import quandl\n",
    "import scipy\n",
    "import sklearn.linear_model\n",
    "import sklearn.metrics"
   ]
  },
  {
   "cell_type": "markdown",
   "metadata": {},
   "source": [
    "Source of the file is EIA.GOV. Great source of free data."
   ]
  },
  {
   "cell_type": "markdown",
   "metadata": {},
   "source": [
    "Price of Heating Oil (Dollars per Gallon)\n",
    "===============================\n",
    "The history goes from 1990. Unfortunately they only have heating oil price weekly and from Oct-Mar (Winter)"
   ]
  },
  {
   "cell_type": "code",
   "execution_count": 2,
   "metadata": {},
   "outputs": [],
   "source": [
    "df_ny = pandas.read_csv(\"Weekly_New_York_No._2_Heating_Oil_Residential_Price.csv\",skiprows=4)\n",
    "df_nj = pandas.read_csv(\"Weekly_New_Jersey_No._2_Heating_Oil_Residential_Price.csv\",skiprows=4)\n",
    "df_ct = pandas.read_csv(\"Weekly_Connecticut_No._2_Heating_Oil_Residential_Price.csv\",skiprows=4)\n",
    "#print(\"Number of records (weeks) available (NY):\", len(df_ny))\n",
    "#print(\"Number of records (weeks) available (NJ):\", len(df_nj))\n",
    "#print(\"Number of records (weeks) available (CT):\", len(df_ct))"
   ]
  },
  {
   "cell_type": "code",
   "execution_count": 3,
   "metadata": {},
   "outputs": [],
   "source": [
    "dfs = [ df_ny, df_nj, df_ct ]\n",
    "for df in dfs:\n",
    "    #print(df.columns)\n",
    "    df.columns = ['Date','DPG']\n",
    "    df['Date'] = pandas.to_datetime(df['Date'])\n",
    "    #print(df.tail(3))\n",
    "for df in dfs:\n",
    "    #df['Week'] = df['Date'].dt.isocalendar().week\n",
    "    df['Week'] = df['Date'].dt.strftime(\"%W\").astype(int)\n",
    "    #df['Year'] = df['Date'].dt.isocalendar().year\n",
    "    df['Year'] = df['Date'].dt.strftime(\"%Y\").astype(int)\n",
    "    df['Season'] = ((df['Date'].dt.month-1) // 3)\n",
    "    df['TagY'] = df['Year']-1*(df['Season']==0)\n",
    "    df['TagW'] = df['Week']+52*(df['Year']-df['TagY'])-40\n",
    "filters_ny = []\n",
    "tags_ny = []\n",
    "for X in df_ny[\"TagY\"].unique():\n",
    "    tags_ny.append( X )\n",
    "    filters_ny.append( (df_ny[\"TagY\"]==X) )\n",
    "\n",
    "filters_nj = []\n",
    "tags_nj = []\n",
    "for X in df_nj[\"TagY\"].unique():\n",
    "    tags_nj.append( X )\n",
    "    filters_nj.append( (df_nj[\"TagY\"]==X) )\n",
    "\n",
    "filters_ct = []\n",
    "tags_ct = []\n",
    "for X in df_ct[\"TagY\"].unique():\n",
    "    tags_ct.append( X )\n",
    "    filters_ct.append( (df_ct[\"TagY\"]==X) )\n",
    "\n",
    "filters = [ filters_ny, filters_nj, filters_ct ]\n",
    "tags = [ tags_ny, tags_nj, tags_ct ]"
   ]
  },
  {
   "cell_type": "markdown",
   "metadata": {},
   "source": [
    "Imports of Crude Oil (Thousands of Barrels)\n",
    "==================================="
   ]
  },
  {
   "cell_type": "code",
   "execution_count": 4,
   "metadata": {
    "scrolled": true
   },
   "outputs": [],
   "source": [
    "df_im = pandas.read_csv(\"Imports_of_all_grades_to_New_York-2.csv\",skiprows=4)\n",
    "#df_im.head()"
   ]
  },
  {
   "cell_type": "code",
   "execution_count": 5,
   "metadata": {},
   "outputs": [],
   "source": [
    "imports_nj = df_im.loc[[2]].melt(id_vars=[\"<span style='float:right;'>(thousand barrels)</span>\"], var_name=\"Date\", value_name=\"Barrels\")[[\"Date\",\"Barrels\"]]\n",
    "imports_ny = df_im.loc[[3]].melt(id_vars=[\"<span style='float:right;'>(thousand barrels)</span>\"], var_name=\"Date\", value_name=\"Barrels\")[[\"Date\",\"Barrels\"]]\n",
    "imports_ny[\"Barrels\"] = imports_ny[\"Barrels\"].str.replace(\"--\", \"0\")\n",
    "imports_nj[\"Barrels\"] = imports_nj[\"Barrels\"].str.replace(\"--\", \"0\")\n",
    "imports_ny[\"Barrels\"] = imports_ny[\"Barrels\"].astype(int)\n",
    "imports_nj[\"Barrels\"] = imports_nj[\"Barrels\"].astype(int)\n",
    "imports_ny[\"Date\"] = pandas.to_datetime(imports_ny[\"Date\"])\n",
    "imports_nj[\"Date\"] = pandas.to_datetime(imports_nj[\"Date\"])\n",
    "#imports_ny.head()"
   ]
  },
  {
   "cell_type": "markdown",
   "metadata": {},
   "source": [
    "Production of Crude Oil (Thousands of Barrels)\n",
    "====================================="
   ]
  },
  {
   "cell_type": "code",
   "execution_count": 6,
   "metadata": {},
   "outputs": [],
   "source": [
    "production_ny = pandas.read_csv(\"New_York_Field_Production_of_Crude_Oil.csv\",skiprows=4)\n",
    "production_ny.columns = ['Date','Barrels']\n",
    "production_ny[\"Barrels\"] = production_ny[\"Barrels\"].astype(int)\n",
    "production_ny[\"Date\"] = pandas.to_datetime( production_ny[\"Date\"] )\n",
    "#production_ny.head()"
   ]
  },
  {
   "cell_type": "markdown",
   "metadata": {},
   "source": [
    "Data Inspection\n",
    "=============\n"
   ]
  },
  {
   "cell_type": "code",
   "execution_count": 7,
   "metadata": {},
   "outputs": [],
   "source": [
    "#df_ny.head(30)"
   ]
  },
  {
   "cell_type": "code",
   "execution_count": 8,
   "metadata": {},
   "outputs": [],
   "source": [
    "#df_ny[\"Season\"].value_counts()"
   ]
  },
  {
   "cell_type": "code",
   "execution_count": 9,
   "metadata": {},
   "outputs": [],
   "source": [
    "#df_ny[[\"TagW\",\"Week\",\"TagY\",\"Year\",\"Season\",\"Date\"]].value_counts()"
   ]
  },
  {
   "cell_type": "code",
   "execution_count": 10,
   "metadata": {},
   "outputs": [],
   "source": [
    "#(df_ny[\"Year\"]-df_ny[\"TagY\"]).unique()"
   ]
  },
  {
   "cell_type": "markdown",
   "metadata": {},
   "source": [
    "Preview of Uncook Data\n",
    "===================\n",
    "Plot all data as it comes to check integrity, among other things =)"
   ]
  },
  {
   "cell_type": "code",
   "execution_count": 11,
   "metadata": {
    "scrolled": false
   },
   "outputs": [
    {
     "data": {
      "text/plain": [
       "<matplotlib.legend.Legend at 0x7fed5ec73550>"
      ]
     },
     "execution_count": 11,
     "metadata": {},
     "output_type": "execute_result"
    },
    {
     "data": {
      "image/png": "[encoded data removed]",
      "text/plain": [
       "<Figure size 432x288 with 1 Axes>"
      ]
     },
     "metadata": {
      "needs_background": "light"
     },
     "output_type": "display_data"
    }
   ],
   "source": [
    "ax = df_ny.plot(x=\"Date\",y=\"DPG\",label=\"NY\")\n",
    "df_nj.plot(x=\"Date\",y=\"DPG\",label=\"NJ\",ax=ax)\n",
    "df_ct.plot(x=\"Date\",y=\"DPG\",label=\"CT\",ax=ax)\n",
    "#pyplot.axvline(x = datetime(2022,2,24), color = 'b', label = 'Russia-Ucraine')\n",
    "#pyplot.axvline(x = datetime(2021,1,20), color = 'r', label = 'Biden')\n",
    "#pyplot.axvline(x = datetime(2020,3,13), color = 'y', label = 'COVID Pandemic')\n",
    "#pyplot.xlim([datetime(2008,7,1), datetime(2022,5,1)])\n",
    "#pyplot.xlim([datetime(2018,7,1), datetime(2022,5,1)])\n",
    "#pyplot.ylim(2, 5.5)\n",
    "pyplot.ylabel(\"Dollars per Gallon\")\n",
    "pyplot.title(\"Price of Heating Oil in Tri-State\")\n",
    "#pyplot.plot\n",
    "#ax.plot(logy=True, logx=True)\n",
    "\n",
    "ax.legend()"
   ]
  },
  {
   "cell_type": "code",
   "execution_count": 12,
   "metadata": {},
   "outputs": [
    {
     "data": {
      "text/html": [
       "<div>\n",
       "<style scoped>\n",
       "    .dataframe tbody tr th:only-of-type {\n",
       "        vertical-align: middle;\n",
       "    }\n",
       "\n",
       "    .dataframe tbody tr th {\n",
       "        vertical-align: top;\n",
       "    }\n",
       "\n",
       "    .dataframe thead th {\n",
       "        text-align: right;\n",
       "    }\n",
       "</style>\n",
       "<table border=\"1\" class=\"dataframe\">\n",
       "  <thead>\n",
       "    <tr style=\"text-align: right;\">\n",
       "      <th></th>\n",
       "      <th>Date</th>\n",
       "      <th>DPG</th>\n",
       "      <th>Week</th>\n",
       "      <th>Year</th>\n",
       "      <th>Season</th>\n",
       "      <th>TagY</th>\n",
       "      <th>TagW</th>\n",
       "    </tr>\n",
       "  </thead>\n",
       "  <tbody>\n",
       "    <tr>\n",
       "      <th>678</th>\n",
       "      <td>1990-12-03</td>\n",
       "      <td>1.346</td>\n",
       "      <td>49</td>\n",
       "      <td>1990</td>\n",
       "      <td>3</td>\n",
       "      <td>1990</td>\n",
       "      <td>9</td>\n",
       "    </tr>\n",
       "    <tr>\n",
       "      <th>679</th>\n",
       "      <td>1990-11-19</td>\n",
       "      <td>1.341</td>\n",
       "      <td>47</td>\n",
       "      <td>1990</td>\n",
       "      <td>3</td>\n",
       "      <td>1990</td>\n",
       "      <td>7</td>\n",
       "    </tr>\n",
       "    <tr>\n",
       "      <th>680</th>\n",
       "      <td>1990-11-05</td>\n",
       "      <td>1.360</td>\n",
       "      <td>45</td>\n",
       "      <td>1990</td>\n",
       "      <td>3</td>\n",
       "      <td>1990</td>\n",
       "      <td>5</td>\n",
       "    </tr>\n",
       "    <tr>\n",
       "      <th>681</th>\n",
       "      <td>1990-10-15</td>\n",
       "      <td>1.377</td>\n",
       "      <td>42</td>\n",
       "      <td>1990</td>\n",
       "      <td>3</td>\n",
       "      <td>1990</td>\n",
       "      <td>2</td>\n",
       "    </tr>\n",
       "    <tr>\n",
       "      <th>682</th>\n",
       "      <td>1990-10-01</td>\n",
       "      <td>1.317</td>\n",
       "      <td>40</td>\n",
       "      <td>1990</td>\n",
       "      <td>3</td>\n",
       "      <td>1990</td>\n",
       "      <td>0</td>\n",
       "    </tr>\n",
       "  </tbody>\n",
       "</table>\n",
       "</div>"
      ],
      "text/plain": [
       "          Date    DPG  Week  Year  Season  TagY  TagW\n",
       "678 1990-12-03  1.346    49  1990       3  1990     9\n",
       "679 1990-11-19  1.341    47  1990       3  1990     7\n",
       "680 1990-11-05  1.360    45  1990       3  1990     5\n",
       "681 1990-10-15  1.377    42  1990       3  1990     2\n",
       "682 1990-10-01  1.317    40  1990       3  1990     0"
      ]
     },
     "execution_count": 12,
     "metadata": {},
     "output_type": "execute_result"
    }
   ],
   "source": [
    "df_nj.tail()"
   ]
  },
  {
   "cell_type": "code",
   "execution_count": 13,
   "metadata": {},
   "outputs": [
    {
     "data": {
      "text/plain": [
       "Text(0.5, 1.0, 'Imports from Overseas')"
      ]
     },
     "execution_count": 13,
     "metadata": {},
     "output_type": "execute_result"
    },
    {
     "data": {
      "image/png": "[encoded data removed]",
      "text/plain": [
       "<Figure size 432x288 with 1 Axes>"
      ]
     },
     "metadata": {
      "needs_background": "light"
     },
     "output_type": "display_data"
    }
   ],
   "source": [
    "ax = imports_nj.plot(x=\"Date\",y=\"Barrels\",label=\"NJ\")\n",
    "imports_ny.plot(x=\"Date\",y=\"Barrels\",ax=ax,label=\"NY\")\n",
    "#pyplot.xlim([datetime(2008,7,1), datetime(2022,5,1)])\n",
    "pyplot.ylabel(\"Thousand Barrels\")\n",
    "pyplot.title(\"Imports from Overseas\")"
   ]
  },
  {
   "cell_type": "code",
   "execution_count": 14,
   "metadata": {},
   "outputs": [
    {
     "data": {
      "text/plain": [
       "Text(0.5, 1.0, 'Production in NewYork')"
      ]
     },
     "execution_count": 14,
     "metadata": {},
     "output_type": "execute_result"
    },
    {
     "data": {
      "image/png": "[encoded data removed]",
      "text/plain": [
       "<Figure size 432x288 with 1 Axes>"
      ]
     },
     "metadata": {
      "needs_background": "light"
     },
     "output_type": "display_data"
    }
   ],
   "source": [
    "production_ny.plot(x=\"Date\",y=\"Barrels\")\n",
    "#pyplot.xlim([datetime(2008,7,1), datetime(2022,5,1)])\n",
    "pyplot.ylabel(\"Thousand Barrels\")\n",
    "pyplot.title(\"Production in NewYork\")"
   ]
  },
  {
   "cell_type": "markdown",
   "metadata": {},
   "source": [
    "Unifying Data\n",
    "===========\n",
    "I want to define what I call HeatingOilSeason, for lack of a better term. The HeatingOilSeason begins in October on one year and extends until March of the next year. Two varaibles are use for tagging:\n",
    "    TagY: Year where the HeatingOilSeason begined\n",
    "    TagW: Week (from 0 to 20) within the HeatingOilSeason"
   ]
  },
  {
   "cell_type": "code",
   "execution_count": 15,
   "metadata": {},
   "outputs": [],
   "source": [
    "def plot_tagY(dftuple):\n",
    "    def plotter(Winter):\n",
    "        df, flts = dftuple[0]\n",
    "        valid_rows = df[flts[Winter]].notna()\n",
    "        ax = df[flts[Winter]].plot(x=\"TagW\", y=\"DPG\", label=\"NY\")\n",
    "        df, flts = dftuple[1]\n",
    "        valid_rows = df[flts[Winter]].notna()\n",
    "        df[flts[Winter]].plot(x=\"TagW\", y=\"DPG\", label=\"NJ\", ax=ax)\n",
    "        df, flts = dftuple[2]\n",
    "        valid_rows = df[flts[Winter]].notna()\n",
    "        df[flts[Winter]].plot(x=\"TagW\", y=\"DPG\", label=\"CT\", ax=ax)\n",
    "        pyplot.ylabel(\"Dollars Per Gallon\")\n",
    "        pyplot.xlabel(\"Week number in Winter Season\")\n",
    "        pyplot.title(\"Oct {0} to Mar {1}\".format( 2021-Winter, 2022-Winter ) )\n",
    "        #pyplot.ylim([1, 6])    \n",
    "        ax.legend()\n",
    "    return plotter"
   ]
  },
  {
   "cell_type": "code",
   "execution_count": 16,
   "metadata": {},
   "outputs": [
    {
     "data": {
      "application/vnd.jupyter.widget-view+json": {
       "model_id": "c24ff383a4024796833834b47c97c5d1",
       "version_major": 2,
       "version_minor": 0
      },
      "text/plain": [
       "interactive(children=(Dropdown(description='Winter', options={'2021': 0, '2020': 1, '2019': 2, '2018': 3, '201…"
      ]
     },
     "metadata": {},
     "output_type": "display_data"
    }
   ],
   "source": [
    "tags = []\n",
    "for X in df_ny[\"TagY\"].unique():\n",
    "    tags.append( X )\n",
    "all_df = [ (df_ny,filters_ny), (df_nj,filters_nj), (df_ct,filters_ct) ]\n",
    "dropdown_values = {\"{0}\".format(flt):k for k, flt in enumerate(tags)}\n",
    "widgets.interact(plot_tagY(all_df), Winter=dropdown_values);"
   ]
  },
  {
   "cell_type": "code",
   "execution_count": 17,
   "metadata": {},
   "outputs": [
    {
     "data": {
      "text/html": [
       "<div>\n",
       "<style scoped>\n",
       "    .dataframe tbody tr th:only-of-type {\n",
       "        vertical-align: middle;\n",
       "    }\n",
       "\n",
       "    .dataframe tbody tr th {\n",
       "        vertical-align: top;\n",
       "    }\n",
       "\n",
       "    .dataframe thead th {\n",
       "        text-align: right;\n",
       "    }\n",
       "</style>\n",
       "<table border=\"1\" class=\"dataframe\">\n",
       "  <thead>\n",
       "    <tr style=\"text-align: right;\">\n",
       "      <th></th>\n",
       "      <th>Date</th>\n",
       "      <th>DPG</th>\n",
       "      <th>Week</th>\n",
       "      <th>Year</th>\n",
       "      <th>Season</th>\n",
       "      <th>TagY</th>\n",
       "      <th>TagW</th>\n",
       "    </tr>\n",
       "  </thead>\n",
       "  <tbody>\n",
       "    <tr>\n",
       "      <th>0</th>\n",
       "      <td>2022-03-28</td>\n",
       "      <td>5.315</td>\n",
       "      <td>13</td>\n",
       "      <td>2022</td>\n",
       "      <td>0</td>\n",
       "      <td>2021</td>\n",
       "      <td>25</td>\n",
       "    </tr>\n",
       "    <tr>\n",
       "      <th>1</th>\n",
       "      <td>2022-03-21</td>\n",
       "      <td>5.004</td>\n",
       "      <td>12</td>\n",
       "      <td>2022</td>\n",
       "      <td>0</td>\n",
       "      <td>2021</td>\n",
       "      <td>24</td>\n",
       "    </tr>\n",
       "    <tr>\n",
       "      <th>2</th>\n",
       "      <td>2022-03-14</td>\n",
       "      <td>5.001</td>\n",
       "      <td>11</td>\n",
       "      <td>2022</td>\n",
       "      <td>0</td>\n",
       "      <td>2021</td>\n",
       "      <td>23</td>\n",
       "    </tr>\n",
       "    <tr>\n",
       "      <th>3</th>\n",
       "      <td>2022-03-07</td>\n",
       "      <td>5.017</td>\n",
       "      <td>10</td>\n",
       "      <td>2022</td>\n",
       "      <td>0</td>\n",
       "      <td>2021</td>\n",
       "      <td>22</td>\n",
       "    </tr>\n",
       "    <tr>\n",
       "      <th>4</th>\n",
       "      <td>2022-02-28</td>\n",
       "      <td>4.256</td>\n",
       "      <td>9</td>\n",
       "      <td>2022</td>\n",
       "      <td>0</td>\n",
       "      <td>2021</td>\n",
       "      <td>21</td>\n",
       "    </tr>\n",
       "  </tbody>\n",
       "</table>\n",
       "</div>"
      ],
      "text/plain": [
       "        Date    DPG  Week  Year  Season  TagY  TagW\n",
       "0 2022-03-28  5.315    13  2022       0  2021    25\n",
       "1 2022-03-21  5.004    12  2022       0  2021    24\n",
       "2 2022-03-14  5.001    11  2022       0  2021    23\n",
       "3 2022-03-07  5.017    10  2022       0  2021    22\n",
       "4 2022-02-28  4.256     9  2022       0  2021    21"
      ]
     },
     "execution_count": 17,
     "metadata": {},
     "output_type": "execute_result"
    }
   ],
   "source": [
    "df_ny.head()"
   ]
  },
  {
   "cell_type": "code",
   "execution_count": 18,
   "metadata": {
    "scrolled": true
   },
   "outputs": [],
   "source": [
    "filt = df_ny['Date'] > datetime(2018,7,1)\n",
    "\n",
    "ddf_ny = df_ny.loc[ filt, ['Week','DPG'] ]"
   ]
  },
  {
   "cell_type": "code",
   "execution_count": 19,
   "metadata": {},
   "outputs": [
    {
     "data": {
      "text/plain": [
       "pandas.core.frame.DataFrame"
      ]
     },
     "execution_count": 19,
     "metadata": {},
     "output_type": "execute_result"
    }
   ],
   "source": [
    "week_groups_mean = ddf_ny.groupby(\"Week\").mean()\n",
    "type(week_groups_mean)"
   ]
  },
  {
   "cell_type": "code",
   "execution_count": 20,
   "metadata": {},
   "outputs": [
    {
     "data": {
      "text/plain": [
       "<AxesSubplot:xlabel='Week'>"
      ]
     },
     "execution_count": 20,
     "metadata": {},
     "output_type": "execute_result"
    },
    {
     "data": {
      "image/png": "[encoded data removed]",
      "text/plain": [
       "<Figure size 432x288 with 1 Axes>"
      ]
     },
     "metadata": {
      "needs_background": "light"
     },
     "output_type": "display_data"
    }
   ],
   "source": [
    "week_groups_mean.plot(y=\"DPG\", use_index=True)"
   ]
  },
  {
   "cell_type": "code",
   "execution_count": 21,
   "metadata": {},
   "outputs": [
    {
     "data": {
      "text/plain": [
       "'53'"
      ]
     },
     "execution_count": 21,
     "metadata": {},
     "output_type": "execute_result"
    }
   ],
   "source": [
    "datetime(1196, 12, 31, 0, 0, 0).strftime(\"%W\")"
   ]
  },
  {
   "cell_type": "code",
   "execution_count": null,
   "metadata": {},
   "outputs": [],
   "source": []
  }
 ],
 "metadata": {
  "kernelspec": {
   "display_name": "Python3",
   "language": "python",
   "name": "python3"
  },
  "language_info": {
   "codemirror_mode": {
    "name": "ipython",
    "version": 3
   },
   "file_extension": ".py",
   "mimetype": "text/x-python",
   "name": "python",
   "nbconvert_exporter": "python",
   "pygments_lexer": "ipython3",
   "version": "3.9.7"
  }
 },
 "nbformat": 4,
 "nbformat_minor": 4
}

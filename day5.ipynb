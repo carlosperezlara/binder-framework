{
 "cells": [
  {
   "cell_type": "code",
   "execution_count": 1,
   "id": "ebee5dcf",
   "metadata": {},
   "outputs": [],
   "source": [
    "import pandas\n",
    "import numpy\n",
    "import matplotlib.pyplot as pyplot\n",
    "import math"
   ]
  },
  {
   "cell_type": "code",
   "execution_count": 2,
   "id": "07fff850",
   "metadata": {},
   "outputs": [
    {
     "data": {
      "text/html": [
       "<div>\n",
       "<style scoped>\n",
       "    .dataframe tbody tr th:only-of-type {\n",
       "        vertical-align: middle;\n",
       "    }\n",
       "\n",
       "    .dataframe tbody tr th {\n",
       "        vertical-align: top;\n",
       "    }\n",
       "\n",
       "    .dataframe thead th {\n",
       "        text-align: right;\n",
       "    }\n",
       "</style>\n",
       "<table border=\"1\" class=\"dataframe\">\n",
       "  <thead>\n",
       "    <tr style=\"text-align: right;\">\n",
       "      <th></th>\n",
       "      <th>NTA</th>\n",
       "      <th>JobsCreated</th>\n",
       "      <th>AverageSavings</th>\n",
       "    </tr>\n",
       "  </thead>\n",
       "  <tbody>\n",
       "    <tr>\n",
       "      <th>0</th>\n",
       "      <td>Battery Park City-Lower Manhattan</td>\n",
       "      <td>8688.0</td>\n",
       "      <td>3.798151e+06</td>\n",
       "    </tr>\n",
       "    <tr>\n",
       "      <th>1</th>\n",
       "      <td>Bushwick South</td>\n",
       "      <td>535.0</td>\n",
       "      <td>3.078000e+05</td>\n",
       "    </tr>\n",
       "    <tr>\n",
       "      <th>2</th>\n",
       "      <td>Carroll Gardens-Columbia Street-Red Hook</td>\n",
       "      <td>687.0</td>\n",
       "      <td>1.846839e+05</td>\n",
       "    </tr>\n",
       "    <tr>\n",
       "      <th>3</th>\n",
       "      <td>College Point</td>\n",
       "      <td>421.0</td>\n",
       "      <td>5.742508e+05</td>\n",
       "    </tr>\n",
       "    <tr>\n",
       "      <th>4</th>\n",
       "      <td>Crown Heights North</td>\n",
       "      <td>70.0</td>\n",
       "      <td>1.716897e+04</td>\n",
       "    </tr>\n",
       "  </tbody>\n",
       "</table>\n",
       "</div>"
      ],
      "text/plain": [
       "                                        NTA  JobsCreated  AverageSavings\n",
       "0         Battery Park City-Lower Manhattan       8688.0    3.798151e+06\n",
       "1                            Bushwick South        535.0    3.078000e+05\n",
       "2  Carroll Gardens-Columbia Street-Red Hook        687.0    1.846839e+05\n",
       "3                             College Point        421.0    5.742508e+05\n",
       "4                       Crown Heights North         70.0    1.716897e+04"
      ]
     },
     "execution_count": 2,
     "metadata": {},
     "output_type": "execute_result"
    }
   ],
   "source": [
    "df = pandas.read_csv('data/nyc_openData_question5.csv') \n",
    "df.head()"
   ]
  },
  {
   "cell_type": "markdown",
   "id": "5b42e877",
   "metadata": {},
   "source": [
    "1) scatter plot of jobs created versus average savings. Use both a standard and a logarithmic scale for the average savings."
   ]
  },
  {
   "cell_type": "code",
   "execution_count": 3,
   "id": "1b87dacd",
   "metadata": {},
   "outputs": [
    {
     "data": {
      "image/png": "[encoded data removed]",
      "text/plain": [
       "<Figure size 432x288 with 1 Axes>"
      ]
     },
     "metadata": {
      "needs_background": "light"
     },
     "output_type": "display_data"
    }
   ],
   "source": [
    "df.plot(kind = 'scatter', x = 'AverageSavings', y = 'JobsCreated')\n",
    "pyplot.show()"
   ]
  },
  {
   "cell_type": "code",
   "execution_count": 4,
   "id": "2f12e9a1",
   "metadata": {},
   "outputs": [
    {
     "data": {
      "image/png": "[encoded data removed]",
      "text/plain": [
       "<Figure size 432x288 with 1 Axes>"
      ]
     },
     "metadata": {
      "needs_background": "light"
     },
     "output_type": "display_data"
    }
   ],
   "source": [
    "df.plot(kind = 'scatter', x = 'AverageSavings', y = 'JobsCreated')\n",
    "pyplot.xscale(\"log\")\n",
    "pyplot.yscale(\"log\")\n",
    "pyplot.show()\n"
   ]
  },
  {
   "cell_type": "markdown",
   "id": "8c26c5ed",
   "metadata": {},
   "source": [
    "2) histogram of the log of the average total savings."
   ]
  },
  {
   "cell_type": "code",
   "execution_count": 5,
   "id": "9b224cd1",
   "metadata": {},
   "outputs": [
    {
     "data": {
      "image/png": "[encoded data removed]",
      "text/plain": [
       "<Figure size 432x288 with 1 Axes>"
      ]
     },
     "metadata": {
      "needs_background": "light"
     },
     "output_type": "display_data"
    }
   ],
   "source": [
    "df['AverageSavings'].apply(math.log).plot(kind = 'hist' )\n",
    "pyplot.show()"
   ]
  },
  {
   "cell_type": "markdown",
   "id": "db48584d",
   "metadata": {},
   "source": [
    "3) line plot of the total jobs created for each month."
   ]
  },
  {
   "cell_type": "code",
   "execution_count": 6,
   "id": "ea1599ca",
   "metadata": {},
   "outputs": [],
   "source": [
    "df_ori = pandas.read_csv('data/nyc_openData.csv')\n",
    "pandas.set_option('display.max_columns',30)\n",
    "#df_ori.head()"
   ]
  },
  {
   "cell_type": "code",
   "execution_count": 7,
   "id": "36b61cbd",
   "metadata": {},
   "outputs": [],
   "source": [
    "df_ori['EffDateMonth'] = df_ori['Effective Date'].apply(lambda x: int(x.split('/')[0]) )"
   ]
  },
  {
   "cell_type": "code",
   "execution_count": 8,
   "id": "25829bf0",
   "metadata": {},
   "outputs": [],
   "source": [
    "jobs_per_month = df_ori[ ['Current fulltime','EffDateMonth'] ].dropna().groupby( ['EffDateMonth'] ).sum()"
   ]
  },
  {
   "cell_type": "code",
   "execution_count": 9,
   "id": "9006fb43",
   "metadata": {},
   "outputs": [
    {
     "data": {
      "text/html": [
       "<div>\n",
       "<style scoped>\n",
       "    .dataframe tbody tr th:only-of-type {\n",
       "        vertical-align: middle;\n",
       "    }\n",
       "\n",
       "    .dataframe tbody tr th {\n",
       "        vertical-align: top;\n",
       "    }\n",
       "\n",
       "    .dataframe thead th {\n",
       "        text-align: right;\n",
       "    }\n",
       "</style>\n",
       "<table border=\"1\" class=\"dataframe\">\n",
       "  <thead>\n",
       "    <tr style=\"text-align: right;\">\n",
       "      <th></th>\n",
       "      <th>Current fulltime</th>\n",
       "    </tr>\n",
       "    <tr>\n",
       "      <th>EffDateMonth</th>\n",
       "      <th></th>\n",
       "    </tr>\n",
       "  </thead>\n",
       "  <tbody>\n",
       "    <tr>\n",
       "      <th>1</th>\n",
       "      <td>5148.0</td>\n",
       "    </tr>\n",
       "    <tr>\n",
       "      <th>2</th>\n",
       "      <td>2612.0</td>\n",
       "    </tr>\n",
       "    <tr>\n",
       "      <th>3</th>\n",
       "      <td>4235.0</td>\n",
       "    </tr>\n",
       "    <tr>\n",
       "      <th>4</th>\n",
       "      <td>1861.0</td>\n",
       "    </tr>\n",
       "    <tr>\n",
       "      <th>5</th>\n",
       "      <td>1680.0</td>\n",
       "    </tr>\n",
       "    <tr>\n",
       "      <th>6</th>\n",
       "      <td>6937.0</td>\n",
       "    </tr>\n",
       "    <tr>\n",
       "      <th>7</th>\n",
       "      <td>12741.0</td>\n",
       "    </tr>\n",
       "    <tr>\n",
       "      <th>8</th>\n",
       "      <td>4855.0</td>\n",
       "    </tr>\n",
       "    <tr>\n",
       "      <th>9</th>\n",
       "      <td>2510.0</td>\n",
       "    </tr>\n",
       "    <tr>\n",
       "      <th>10</th>\n",
       "      <td>5231.0</td>\n",
       "    </tr>\n",
       "    <tr>\n",
       "      <th>11</th>\n",
       "      <td>867.0</td>\n",
       "    </tr>\n",
       "    <tr>\n",
       "      <th>12</th>\n",
       "      <td>6710.0</td>\n",
       "    </tr>\n",
       "  </tbody>\n",
       "</table>\n",
       "</div>"
      ],
      "text/plain": [
       "              Current fulltime\n",
       "EffDateMonth                  \n",
       "1                       5148.0\n",
       "2                       2612.0\n",
       "3                       4235.0\n",
       "4                       1861.0\n",
       "5                       1680.0\n",
       "6                       6937.0\n",
       "7                      12741.0\n",
       "8                       4855.0\n",
       "9                       2510.0\n",
       "10                      5231.0\n",
       "11                       867.0\n",
       "12                      6710.0"
      ]
     },
     "execution_count": 9,
     "metadata": {},
     "output_type": "execute_result"
    }
   ],
   "source": [
    "jobs_per_month"
   ]
  },
  {
   "cell_type": "code",
   "execution_count": 10,
   "id": "17e54142",
   "metadata": {
    "scrolled": false
   },
   "outputs": [
    {
     "data": {
      "image/png": "[encoded data removed]",
      "text/plain": [
       "<Figure size 432x288 with 1 Axes>"
      ]
     },
     "metadata": {
      "needs_background": "light"
     },
     "output_type": "display_data"
    }
   ],
   "source": [
    "jobs_per_month.plot(kind = 'line')\n",
    "pyplot.show()"
   ]
  },
  {
   "cell_type": "code",
   "execution_count": null,
   "id": "a3c1c8ed",
   "metadata": {},
   "outputs": [],
   "source": []
  }
 ],
 "metadata": {
  "kernelspec": {
   "display_name": "Python 3 (ipykernel)",
   "language": "python",
   "name": "python3"
  },
  "language_info": {
   "codemirror_mode": {
    "name": "ipython",
    "version": 3
   },
   "file_extension": ".py",
   "mimetype": "text/x-python",
   "name": "python",
   "nbconvert_exporter": "python",
   "pygments_lexer": "ipython3",
   "version": "3.9.12"
  }
 },
 "nbformat": 4,
 "nbformat_minor": 5
}
